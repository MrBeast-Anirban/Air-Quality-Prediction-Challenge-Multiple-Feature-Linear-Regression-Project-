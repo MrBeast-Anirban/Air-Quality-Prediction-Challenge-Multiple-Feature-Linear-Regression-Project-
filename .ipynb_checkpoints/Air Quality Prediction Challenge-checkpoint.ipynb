{
 "cells": [
  {
   "cell_type": "markdown",
   "metadata": {},
   "source": [
    "# <u>Air Quality Prediction\n"
   ]
  },
  {
   "cell_type": "markdown",
   "metadata": {},
   "source": [
    "### Importing Essential Libraries"
   ]
  },
  {
   "cell_type": "code",
   "execution_count": 1,
   "metadata": {},
   "outputs": [],
   "source": [
    "import numpy as np\n",
    "import pandas as pd\n",
    "import matplotlib.pyplot as plt\n",
    "plt.style.use('seaborn')"
   ]
  },
  {
   "cell_type": "markdown",
   "metadata": {},
   "source": [
    "### Loading Data"
   ]
  },
  {
   "cell_type": "code",
   "execution_count": 2,
   "metadata": {},
   "outputs": [
    {
     "data": {
      "text/html": [
       "<div>\n",
       "<style scoped>\n",
       "    .dataframe tbody tr th:only-of-type {\n",
       "        vertical-align: middle;\n",
       "    }\n",
       "\n",
       "    .dataframe tbody tr th {\n",
       "        vertical-align: top;\n",
       "    }\n",
       "\n",
       "    .dataframe thead th {\n",
       "        text-align: right;\n",
       "    }\n",
       "</style>\n",
       "<table border=\"1\" class=\"dataframe\">\n",
       "  <thead>\n",
       "    <tr style=\"text-align: right;\">\n",
       "      <th></th>\n",
       "      <th>feature_1</th>\n",
       "      <th>feature_2</th>\n",
       "      <th>feature_3</th>\n",
       "      <th>feature_4</th>\n",
       "      <th>feature_5</th>\n",
       "      <th>target</th>\n",
       "    </tr>\n",
       "  </thead>\n",
       "  <tbody>\n",
       "    <tr>\n",
       "      <th>0</th>\n",
       "      <td>0.293416</td>\n",
       "      <td>-0.945599</td>\n",
       "      <td>-0.421105</td>\n",
       "      <td>0.406816</td>\n",
       "      <td>0.525662</td>\n",
       "      <td>-82.154667</td>\n",
       "    </tr>\n",
       "    <tr>\n",
       "      <th>1</th>\n",
       "      <td>-0.836084</td>\n",
       "      <td>-0.189228</td>\n",
       "      <td>-0.776403</td>\n",
       "      <td>-1.053831</td>\n",
       "      <td>0.597997</td>\n",
       "      <td>-48.897960</td>\n",
       "    </tr>\n",
       "    <tr>\n",
       "      <th>2</th>\n",
       "      <td>0.236425</td>\n",
       "      <td>0.132836</td>\n",
       "      <td>-0.147723</td>\n",
       "      <td>0.699854</td>\n",
       "      <td>-0.187364</td>\n",
       "      <td>77.270371</td>\n",
       "    </tr>\n",
       "    <tr>\n",
       "      <th>3</th>\n",
       "      <td>0.175312</td>\n",
       "      <td>0.143194</td>\n",
       "      <td>-0.581111</td>\n",
       "      <td>-0.122107</td>\n",
       "      <td>-1.292168</td>\n",
       "      <td>-2.988581</td>\n",
       "    </tr>\n",
       "    <tr>\n",
       "      <th>4</th>\n",
       "      <td>-1.693011</td>\n",
       "      <td>0.542712</td>\n",
       "      <td>-2.798729</td>\n",
       "      <td>-0.686723</td>\n",
       "      <td>1.244077</td>\n",
       "      <td>-37.596722</td>\n",
       "    </tr>\n",
       "  </tbody>\n",
       "</table>\n",
       "</div>"
      ],
      "text/plain": [
       "   feature_1  feature_2  feature_3  feature_4  feature_5     target\n",
       "0   0.293416  -0.945599  -0.421105   0.406816   0.525662 -82.154667\n",
       "1  -0.836084  -0.189228  -0.776403  -1.053831   0.597997 -48.897960\n",
       "2   0.236425   0.132836  -0.147723   0.699854  -0.187364  77.270371\n",
       "3   0.175312   0.143194  -0.581111  -0.122107  -1.292168  -2.988581\n",
       "4  -1.693011   0.542712  -2.798729  -0.686723   1.244077 -37.596722"
      ]
     },
     "execution_count": 2,
     "metadata": {},
     "output_type": "execute_result"
    }
   ],
   "source": [
    "df1 = pd.read_csv(\"Data csv Files/Train.csv\")\n",
    "df1.head()\n",
    "# target column is the Y label"
   ]
  },
  {
   "cell_type": "code",
   "execution_count": 3,
   "metadata": {},
   "outputs": [
    {
     "name": "stdout",
     "output_type": "stream",
     "text": [
      "<class 'pandas.core.frame.DataFrame'>\n",
      "RangeIndex: 1600 entries, 0 to 1599\n",
      "Data columns (total 6 columns):\n",
      "feature_1    1600 non-null float64\n",
      "feature_2    1600 non-null float64\n",
      "feature_3    1600 non-null float64\n",
      "feature_4    1600 non-null float64\n",
      "feature_5    1600 non-null float64\n",
      "target       1600 non-null float64\n",
      "dtypes: float64(6)\n",
      "memory usage: 75.1 KB\n"
     ]
    }
   ],
   "source": [
    "df1.info()"
   ]
  },
  {
   "cell_type": "code",
   "execution_count": 4,
   "metadata": {},
   "outputs": [
    {
     "data": {
      "text/html": [
       "<div>\n",
       "<style scoped>\n",
       "    .dataframe tbody tr th:only-of-type {\n",
       "        vertical-align: middle;\n",
       "    }\n",
       "\n",
       "    .dataframe tbody tr th {\n",
       "        vertical-align: top;\n",
       "    }\n",
       "\n",
       "    .dataframe thead th {\n",
       "        text-align: right;\n",
       "    }\n",
       "</style>\n",
       "<table border=\"1\" class=\"dataframe\">\n",
       "  <thead>\n",
       "    <tr style=\"text-align: right;\">\n",
       "      <th></th>\n",
       "      <th>feature_1</th>\n",
       "      <th>feature_2</th>\n",
       "      <th>feature_3</th>\n",
       "      <th>feature_4</th>\n",
       "      <th>feature_5</th>\n",
       "      <th>target</th>\n",
       "    </tr>\n",
       "  </thead>\n",
       "  <tbody>\n",
       "    <tr>\n",
       "      <th>count</th>\n",
       "      <td>1600.000000</td>\n",
       "      <td>1600.000000</td>\n",
       "      <td>1600.000000</td>\n",
       "      <td>1600.000000</td>\n",
       "      <td>1600.000000</td>\n",
       "      <td>1600.000000</td>\n",
       "    </tr>\n",
       "    <tr>\n",
       "      <th>mean</th>\n",
       "      <td>0.004114</td>\n",
       "      <td>-0.027604</td>\n",
       "      <td>-0.044459</td>\n",
       "      <td>-0.042408</td>\n",
       "      <td>0.012005</td>\n",
       "      <td>0.318835</td>\n",
       "    </tr>\n",
       "    <tr>\n",
       "      <th>std</th>\n",
       "      <td>0.997338</td>\n",
       "      <td>1.021776</td>\n",
       "      <td>1.011768</td>\n",
       "      <td>1.017189</td>\n",
       "      <td>0.978654</td>\n",
       "      <td>110.741562</td>\n",
       "    </tr>\n",
       "    <tr>\n",
       "      <th>min</th>\n",
       "      <td>-3.380125</td>\n",
       "      <td>-3.314844</td>\n",
       "      <td>-3.153118</td>\n",
       "      <td>-3.250169</td>\n",
       "      <td>-2.851707</td>\n",
       "      <td>-379.829794</td>\n",
       "    </tr>\n",
       "    <tr>\n",
       "      <th>25%</th>\n",
       "      <td>-0.647165</td>\n",
       "      <td>-0.705030</td>\n",
       "      <td>-0.706385</td>\n",
       "      <td>-0.709504</td>\n",
       "      <td>-0.615880</td>\n",
       "      <td>-71.897040</td>\n",
       "    </tr>\n",
       "    <tr>\n",
       "      <th>50%</th>\n",
       "      <td>-0.000360</td>\n",
       "      <td>-0.043769</td>\n",
       "      <td>-0.041272</td>\n",
       "      <td>-0.029756</td>\n",
       "      <td>-0.013527</td>\n",
       "      <td>-0.610665</td>\n",
       "    </tr>\n",
       "    <tr>\n",
       "      <th>75%</th>\n",
       "      <td>0.682118</td>\n",
       "      <td>0.645442</td>\n",
       "      <td>0.639130</td>\n",
       "      <td>0.646290</td>\n",
       "      <td>0.650089</td>\n",
       "      <td>71.226603</td>\n",
       "    </tr>\n",
       "    <tr>\n",
       "      <th>max</th>\n",
       "      <td>3.287205</td>\n",
       "      <td>3.438895</td>\n",
       "      <td>3.216176</td>\n",
       "      <td>2.985410</td>\n",
       "      <td>3.321770</td>\n",
       "      <td>337.643014</td>\n",
       "    </tr>\n",
       "  </tbody>\n",
       "</table>\n",
       "</div>"
      ],
      "text/plain": [
       "         feature_1    feature_2    feature_3    feature_4    feature_5  \\\n",
       "count  1600.000000  1600.000000  1600.000000  1600.000000  1600.000000   \n",
       "mean      0.004114    -0.027604    -0.044459    -0.042408     0.012005   \n",
       "std       0.997338     1.021776     1.011768     1.017189     0.978654   \n",
       "min      -3.380125    -3.314844    -3.153118    -3.250169    -2.851707   \n",
       "25%      -0.647165    -0.705030    -0.706385    -0.709504    -0.615880   \n",
       "50%      -0.000360    -0.043769    -0.041272    -0.029756    -0.013527   \n",
       "75%       0.682118     0.645442     0.639130     0.646290     0.650089   \n",
       "max       3.287205     3.438895     3.216176     2.985410     3.321770   \n",
       "\n",
       "            target  \n",
       "count  1600.000000  \n",
       "mean      0.318835  \n",
       "std     110.741562  \n",
       "min    -379.829794  \n",
       "25%     -71.897040  \n",
       "50%      -0.610665  \n",
       "75%      71.226603  \n",
       "max     337.643014  "
      ]
     },
     "execution_count": 4,
     "metadata": {},
     "output_type": "execute_result"
    }
   ],
   "source": [
    "df1.describe()"
   ]
  },
  {
   "cell_type": "markdown",
   "metadata": {},
   "source": [
    " We can see that the data is normalized since mean = 0 and std = 1 approximately but still we can perform normalization as formality"
   ]
  },
  {
   "cell_type": "code",
   "execution_count": 5,
   "metadata": {},
   "outputs": [
    {
     "name": "stdout",
     "output_type": "stream",
     "text": [
      "['feature_1', 'feature_2', 'feature_3', 'feature_4', 'feature_5']\n"
     ]
    }
   ],
   "source": [
    "columns = df1.columns\n",
    "columns = list(columns[:-1])\n",
    "print(columns)"
   ]
  },
  {
   "cell_type": "code",
   "execution_count": 6,
   "metadata": {},
   "outputs": [
    {
     "name": "stdout",
     "output_type": "stream",
     "text": [
      "(1600, 5) (1600,)\n"
     ]
    }
   ],
   "source": [
    "X = df1[columns].values\n",
    "Y = df1['target'].values\n",
    "print(X.shape, Y.shape)"
   ]
  },
  {
   "cell_type": "code",
   "execution_count": 7,
   "metadata": {},
   "outputs": [
    {
     "name": "stdout",
     "output_type": "stream",
     "text": [
      "[[ 0.29341624 -0.94559871 -0.42110515  0.40681602  0.52566183]\n",
      " [-0.83608408 -0.18922804 -0.77640262 -1.05383124  0.59799685]\n",
      " [ 0.23642511  0.13283602 -0.14772298  0.69985396 -0.18736416]\n",
      " ...\n",
      " [ 1.04417694 -0.89920649  1.73039905 -1.87105676  0.44251965]\n",
      " [-1.2691729  -0.00505216  1.85766873 -1.08036482  0.73633394]\n",
      " [-1.88400025 -0.84942743 -1.45227035  0.48861308  1.4595758 ]]\n"
     ]
    }
   ],
   "source": [
    "print(X)"
   ]
  },
  {
   "cell_type": "code",
   "execution_count": 8,
   "metadata": {},
   "outputs": [
    {
     "name": "stdout",
     "output_type": "stream",
     "text": [
      "[ -82.15466656  -48.89796018   77.2703707  ... -107.51050797  -47.34155781\n",
      " -115.93900296]\n"
     ]
    }
   ],
   "source": [
    "print(Y)"
   ]
  },
  {
   "cell_type": "markdown",
   "metadata": {},
   "source": [
    "### Data Preprocessing\n",
    "#### Normalization"
   ]
  },
  {
   "cell_type": "code",
   "execution_count": 9,
   "metadata": {},
   "outputs": [],
   "source": [
    "u = X.mean(axis = 0)\n",
    "std = X.std(axis = 0)\n",
    "\n",
    "X = (X - u)/std"
   ]
  },
  {
   "cell_type": "code",
   "execution_count": 10,
   "metadata": {},
   "outputs": [
    {
     "data": {
      "text/html": [
       "<div>\n",
       "<style scoped>\n",
       "    .dataframe tbody tr th:only-of-type {\n",
       "        vertical-align: middle;\n",
       "    }\n",
       "\n",
       "    .dataframe tbody tr th {\n",
       "        vertical-align: top;\n",
       "    }\n",
       "\n",
       "    .dataframe thead th {\n",
       "        text-align: right;\n",
       "    }\n",
       "</style>\n",
       "<table border=\"1\" class=\"dataframe\">\n",
       "  <thead>\n",
       "    <tr style=\"text-align: right;\">\n",
       "      <th></th>\n",
       "      <th>feature_1</th>\n",
       "      <th>feature_2</th>\n",
       "      <th>feature_3</th>\n",
       "      <th>feature_4</th>\n",
       "      <th>feature_5</th>\n",
       "    </tr>\n",
       "  </thead>\n",
       "  <tbody>\n",
       "    <tr>\n",
       "      <th>0</th>\n",
       "      <td>0.290165</td>\n",
       "      <td>-0.898712</td>\n",
       "      <td>-0.372381</td>\n",
       "      <td>0.441771</td>\n",
       "      <td>0.525024</td>\n",
       "    </tr>\n",
       "    <tr>\n",
       "      <th>1</th>\n",
       "      <td>-0.842705</td>\n",
       "      <td>-0.158229</td>\n",
       "      <td>-0.723656</td>\n",
       "      <td>-0.994642</td>\n",
       "      <td>0.598960</td>\n",
       "    </tr>\n",
       "    <tr>\n",
       "      <th>2</th>\n",
       "      <td>0.233004</td>\n",
       "      <td>0.157070</td>\n",
       "      <td>-0.102094</td>\n",
       "      <td>0.729947</td>\n",
       "      <td>-0.203782</td>\n",
       "    </tr>\n",
       "    <tr>\n",
       "      <th>3</th>\n",
       "      <td>0.171708</td>\n",
       "      <td>0.167210</td>\n",
       "      <td>-0.530576</td>\n",
       "      <td>-0.078377</td>\n",
       "      <td>-1.333037</td>\n",
       "    </tr>\n",
       "    <tr>\n",
       "      <th>4</th>\n",
       "      <td>-1.702188</td>\n",
       "      <td>0.558336</td>\n",
       "      <td>-2.723087</td>\n",
       "      <td>-0.633625</td>\n",
       "      <td>1.259339</td>\n",
       "    </tr>\n",
       "  </tbody>\n",
       "</table>\n",
       "</div>"
      ],
      "text/plain": [
       "   feature_1  feature_2  feature_3  feature_4  feature_5\n",
       "0   0.290165  -0.898712  -0.372381   0.441771   0.525024\n",
       "1  -0.842705  -0.158229  -0.723656  -0.994642   0.598960\n",
       "2   0.233004   0.157070  -0.102094   0.729947  -0.203782\n",
       "3   0.171708   0.167210  -0.530576  -0.078377  -1.333037\n",
       "4  -1.702188   0.558336  -2.723087  -0.633625   1.259339"
      ]
     },
     "execution_count": 10,
     "metadata": {},
     "output_type": "execute_result"
    }
   ],
   "source": [
    "df2 = pd.DataFrame(X, columns = columns)\n",
    "df2.head()"
   ]
  },
  {
   "cell_type": "code",
   "execution_count": 11,
   "metadata": {},
   "outputs": [
    {
     "data": {
      "text/html": [
       "<div>\n",
       "<style scoped>\n",
       "    .dataframe tbody tr th:only-of-type {\n",
       "        vertical-align: middle;\n",
       "    }\n",
       "\n",
       "    .dataframe tbody tr th {\n",
       "        vertical-align: top;\n",
       "    }\n",
       "\n",
       "    .dataframe thead th {\n",
       "        text-align: right;\n",
       "    }\n",
       "</style>\n",
       "<table border=\"1\" class=\"dataframe\">\n",
       "  <thead>\n",
       "    <tr style=\"text-align: right;\">\n",
       "      <th></th>\n",
       "      <th>feature_1</th>\n",
       "      <th>feature_2</th>\n",
       "      <th>feature_3</th>\n",
       "      <th>feature_4</th>\n",
       "      <th>feature_5</th>\n",
       "    </tr>\n",
       "  </thead>\n",
       "  <tbody>\n",
       "    <tr>\n",
       "      <th>count</th>\n",
       "      <td>1.600000e+03</td>\n",
       "      <td>1.600000e+03</td>\n",
       "      <td>1.600000e+03</td>\n",
       "      <td>1.600000e+03</td>\n",
       "      <td>1.600000e+03</td>\n",
       "    </tr>\n",
       "    <tr>\n",
       "      <th>mean</th>\n",
       "      <td>2.775558e-19</td>\n",
       "      <td>-6.980527e-17</td>\n",
       "      <td>-9.714451e-18</td>\n",
       "      <td>6.938894e-19</td>\n",
       "      <td>-3.191891e-18</td>\n",
       "    </tr>\n",
       "    <tr>\n",
       "      <th>std</th>\n",
       "      <td>1.000313e+00</td>\n",
       "      <td>1.000313e+00</td>\n",
       "      <td>1.000313e+00</td>\n",
       "      <td>1.000313e+00</td>\n",
       "      <td>1.000313e+00</td>\n",
       "    </tr>\n",
       "    <tr>\n",
       "      <th>min</th>\n",
       "      <td>-3.394334e+00</td>\n",
       "      <td>-3.218189e+00</td>\n",
       "      <td>-3.073464e+00</td>\n",
       "      <td>-3.154539e+00</td>\n",
       "      <td>-2.927091e+00</td>\n",
       "    </tr>\n",
       "    <tr>\n",
       "      <th>25%</th>\n",
       "      <td>-6.532217e-01</td>\n",
       "      <td>-6.631960e-01</td>\n",
       "      <td>-6.544315e-01</td>\n",
       "      <td>-6.560276e-01</td>\n",
       "      <td>-6.417809e-01</td>\n",
       "    </tr>\n",
       "    <tr>\n",
       "      <th>50%</th>\n",
       "      <td>-4.487509e-03</td>\n",
       "      <td>-1.582564e-02</td>\n",
       "      <td>3.151454e-03</td>\n",
       "      <td>1.244233e-02</td>\n",
       "      <td>-2.609701e-02</td>\n",
       "    </tr>\n",
       "    <tr>\n",
       "      <th>75%</th>\n",
       "      <td>6.800261e-01</td>\n",
       "      <td>6.589081e-01</td>\n",
       "      <td>6.758504e-01</td>\n",
       "      <td>6.772709e-01</td>\n",
       "      <td>6.522049e-01</td>\n",
       "    </tr>\n",
       "    <tr>\n",
       "      <th>max</th>\n",
       "      <td>3.292885e+00</td>\n",
       "      <td>3.393682e+00</td>\n",
       "      <td>3.223719e+00</td>\n",
       "      <td>2.977582e+00</td>\n",
       "      <td>3.383015e+00</td>\n",
       "    </tr>\n",
       "  </tbody>\n",
       "</table>\n",
       "</div>"
      ],
      "text/plain": [
       "          feature_1     feature_2     feature_3     feature_4     feature_5\n",
       "count  1.600000e+03  1.600000e+03  1.600000e+03  1.600000e+03  1.600000e+03\n",
       "mean   2.775558e-19 -6.980527e-17 -9.714451e-18  6.938894e-19 -3.191891e-18\n",
       "std    1.000313e+00  1.000313e+00  1.000313e+00  1.000313e+00  1.000313e+00\n",
       "min   -3.394334e+00 -3.218189e+00 -3.073464e+00 -3.154539e+00 -2.927091e+00\n",
       "25%   -6.532217e-01 -6.631960e-01 -6.544315e-01 -6.560276e-01 -6.417809e-01\n",
       "50%   -4.487509e-03 -1.582564e-02  3.151454e-03  1.244233e-02 -2.609701e-02\n",
       "75%    6.800261e-01  6.589081e-01  6.758504e-01  6.772709e-01  6.522049e-01\n",
       "max    3.292885e+00  3.393682e+00  3.223719e+00  2.977582e+00  3.383015e+00"
      ]
     },
     "execution_count": 11,
     "metadata": {},
     "output_type": "execute_result"
    }
   ],
   "source": [
    "df2.describe()\n",
    "# Now our Data is more normalized too"
   ]
  },
  {
   "cell_type": "markdown",
   "metadata": {},
   "source": [
    "#### To make our computation of hypothesis more easy we need to add a extra dummy column as X0 whose all values are 1"
   ]
  },
  {
   "cell_type": "code",
   "execution_count": 12,
   "metadata": {},
   "outputs": [],
   "source": [
    "m = X.shape[0]\n",
    "X0 = np.ones((m,1))\n",
    "X = np.hstack((X0, X))"
   ]
  },
  {
   "cell_type": "code",
   "execution_count": 13,
   "metadata": {},
   "outputs": [
    {
     "name": "stdout",
     "output_type": "stream",
     "text": [
      "[[ 1.          0.29016495 -0.89871183 -0.37238147  0.44177059  0.52502448]\n",
      " [ 1.         -0.84270473 -0.15822922 -0.72365639 -0.99464217  0.59896038]\n",
      " [ 1.          0.23300381  0.15706968 -0.10209444  0.72994655 -0.20378187]\n",
      " ...\n",
      " [ 1.          1.0431652  -0.8532941   1.75476416 -1.79830858  0.44004223]\n",
      " [ 1.         -1.27708547  0.02207793  1.88059294 -1.0207355   0.74035908]\n",
      " [ 1.         -1.89374689 -0.80456069 -1.39187219  0.52221049  1.47960738]]\n"
     ]
    }
   ],
   "source": [
    "print(X)"
   ]
  },
  {
   "cell_type": "markdown",
   "metadata": {},
   "source": [
    "### Visualization of one feature vs Y label"
   ]
  },
  {
   "cell_type": "code",
   "execution_count": 14,
   "metadata": {},
   "outputs": [
    {
     "data": {
      "image/png": "[encoded data removed]",
      "text/plain": [
       "<Figure size 1080x576 with 6 Axes>"
      ]
     },
     "metadata": {},
     "output_type": "display_data"
    }
   ],
   "source": [
    "plt.figure(figsize = ((15,8)))\n",
    "for i in range(0,6):\n",
    "    plt.subplot(3,2,i+1)\n",
    "    plt.xlabel(\"Feature{}\".format(i))\n",
    "    plt.ylabel(\"Target\")\n",
    "    plt.scatter(X[:,i], Y,i+1)\n",
    "plt.savefig(\"Relation Plot\")\n",
    "plt.tight_layout()\n",
    "plt.show()\n",
    "# We can see that 3nd plot is quite linear"
   ]
  },
  {
   "cell_type": "code",
   "execution_count": 15,
   "metadata": {},
   "outputs": [
    {
     "data": {
      "image/png": "[encoded data removed]",
      "text/plain": [
       "<Figure size 432x288 with 1 Axes>"
      ]
     },
     "metadata": {},
     "output_type": "display_data"
    }
   ],
   "source": [
    "plt.xlabel('Feature 2')\n",
    "plt.ylabel('Target')\n",
    "plt.title('Feature 2 VS Target')\n",
    "plt.scatter(X[:,2], Y, color = 'red', marker = '*')\n",
    "plt.savefig(\"Feature2 vs Target\")\n",
    "plt.show()"
   ]
  },
  {
   "cell_type": "markdown",
   "metadata": {},
   "source": [
    "### Linear Regression Implementation\n"
   ]
  },
  {
   "cell_type": "code",
   "execution_count": 16,
   "metadata": {},
   "outputs": [],
   "source": [
    "def hypothesis(X, theta):\n",
    "    y_hat = np.dot(X, theta)\n",
    "    return(y_hat)"
   ]
  },
  {
   "cell_type": "code",
   "execution_count": 17,
   "metadata": {},
   "outputs": [],
   "source": [
    "def error(X, Y, theta):\n",
    "    e = 0.0\n",
    "    m = X.shape[0]\n",
    "    y_hat = hypothesis(X, theta)\n",
    "    e = np.sum((Y - y_hat)**2)\n",
    "    \n",
    "    return(e/m)"
   ]
  },
  {
   "cell_type": "code",
   "execution_count": 18,
   "metadata": {},
   "outputs": [],
   "source": [
    "def gradient(X, Y, theta):\n",
    "    m = X.shape[0]\n",
    "    grad = np.zeros((m,))\n",
    "    \n",
    "    # calculating Gradients\n",
    "    y_hat = hypothesis(X, theta)\n",
    "    grad = np.dot(X.T, (y_hat - Y))\n",
    "    \n",
    "    return(grad/m)"
   ]
  },
  {
   "cell_type": "code",
   "execution_count": 19,
   "metadata": {},
   "outputs": [],
   "source": [
    "def gradient_descent(X, Y, learning_rate = 0.1, max_steps = 300):\n",
    "    m, n = X.shape\n",
    "    theta = np.zeros((n,))\n",
    "    error_list = []\n",
    "    \n",
    "    for i in range(max_steps):\n",
    "        e = error(X, Y, theta)\n",
    "        error_list.append(e)\n",
    "        \n",
    "        # Updating theta\n",
    "        grad = gradient(X, Y, theta)\n",
    "        theta = theta - learning_rate * grad\n",
    "        \n",
    "    return (theta, error_list)"
   ]
  },
  {
   "cell_type": "code",
   "execution_count": 20,
   "metadata": {},
   "outputs": [
    {
     "name": "stdout",
     "output_type": "stream",
     "text": [
      "The time took to execute the code is :-  0.032521963119506836\n"
     ]
    }
   ],
   "source": [
    "import time\n",
    "start = time.time()\n",
    "\n",
    "theta, error_list = gradient_descent(X,Y)\n",
    "np.save('Error_list.npy', error_list)\n",
    "\n",
    "end = time.time()\n",
    "print(\"The time took to execute the code is :- \", end - start)"
   ]
  },
  {
   "cell_type": "code",
   "execution_count": 21,
   "metadata": {},
   "outputs": [
    {
     "name": "stdout",
     "output_type": "stream",
     "text": [
      "The Optimal theta values are :-  [ 0.31883538 29.59359198 94.65067706  8.37544469 45.52303635  2.46461552]\n",
      "\n",
      " [12256.130414032896, 10026.033684143073, 8217.05525281762, 6749.466627013956, 5558.673187089289, 4592.334067473993, 3808.0315657917154, 3171.3849608951386, 2654.523779945838, 2234.85183834815, 1894.04653113265, 1617.2484830009766, 1392.4052530232816, 1209.7397313936942, 1061.3194764678278, 940.7077762355075, 842.6808858642626, 762.9988586786471, 698.2197865343776, 645.5492057333446, 602.7179942368198, 567.8833559297996, 539.5485154072411, 516.4975785302777, 497.742687289827, 482.48114259194153, 470.06060992121974, 459.95088023812474, 451.7209479296336, 445.0204021068502, 439.5643175010901, 435.12098512481214, 431.5019475920107, 428.5539050830668, 426.15213988278555, 424.1951738531029, 422.60042706729115, 421.3006895139443, 420.2412532069083, 419.3775807751255, 418.67340992065016, 418.0992120500355, 417.63093873539134, 417.24900212055684, 416.9374455012189, 416.68326851820393, 416.475878069587, 416.30664146076725, 416.16852270834255, 416.0557864849475, 415.96375709353566, 415.8886222169001, 415.8272731038045, 415.7771744099245, 415.736258177231, 415.70283746416567, 415.6755359753521, 415.6532307197098, 415.63500527894684, 415.620111718303, 415.6079395373841, 415.5979903566829, 415.5898572776599, 415.5832080514249, 415.5777713515323, 415.5733255770358, 415.56968971829235, 415.56671590459604, 415.5642833232386, 415.56229325701526, 415.5606650339798, 415.55933272135326, 415.55824242654194, 415.55735009351656, 415.5566197034254, 415.5560218051133, 415.55553231492394, 415.5551315363223, 415.55480335898517, 415.55453460443124, 415.5543144913185, 415.55413419847406, 415.55398650775345, 415.55386551211285, 415.5537663769602, 415.5536851450382, 415.55361857688376, 415.55356402036006, 415.5535193039538, 415.55348264949816, 415.55345260077854, 415.5534279651227, 415.55340776560973, 415.553391201965, 415.553377618555, 415.5533664781947, 415.55335734070604, 415.5533498453675, 415.5533436965424, 415.55333865191506, 415.5533345128542, 415.5533311165242, 415.55332832942133, 415.55332604208127, 415.5533241647417, 415.55332262379056, 415.5533213588549, 415.5533203204151, 415.55331946785094, 415.55331876783913, 415.55331819304047, 415.55331772102306, 415.55331733338016, 415.55331701500677, 415.55331675350635, 415.55331653870434, 415.5533163622492, 415.55331621728504, 415.55331609818387, 415.55331600032497, 415.5533159199144, 415.55331585383675, 415.55331579953366, 415.5533157549043, 415.55331571822285, 415.55331568807213, 415.5533156632878, 415.5533156429137, 415.55331562616374, 415.5533156123926, 415.5533156010699, 415.55331559175977, 415.553315584104, 415.55331557780823, 415.55331557263065, 415.5533155683725, 415.55331556487016, 415.5533155619894, 415.5533155596197, 415.5533155576704, 415.5533155560668, 415.55331555474754, 415.5533155536621, 415.553315552769, 415.5533155520342, 415.5533155514295, 415.55331555093187, 415.55331555052237, 415.55331555018535, 415.55331554990806, 415.5533155496798, 415.55331554949197, 415.5533155493372, 415.55331554920997, 415.55331554910515, 415.55331554901886, 415.55331554894786, 415.5533155488894, 415.5533155488412, 415.55331554880155, 415.55331554876886, 415.55331554874203, 415.5533155487199, 415.5533155487017, 415.55331554868667, 415.5533155486744, 415.5533155486641, 415.5533155486558, 415.5533155486489, 415.5533155486431, 415.55331554863847, 415.5533155486347, 415.55331554863153, 415.5533155486289, 415.55331554862664, 415.55331554862494, 415.5533155486235, 415.5533155486222, 415.55331554862124, 415.55331554862045, 415.5533155486198, 415.5533155486192, 415.5533155486188, 415.5533155486184, 415.55331554861806, 415.55331554861783, 415.55331554861755, 415.5533155486174, 415.55331554861726, 415.55331554861715, 415.55331554861704, 415.553315548617, 415.553315548617, 415.5533155486168, 415.5533155486168, 415.5533155486168, 415.55331554861675, 415.55331554861664, 415.55331554861664, 415.55331554861664, 415.55331554861664, 415.55331554861664, 415.55331554861664, 415.5533155486166, 415.55331554861664, 415.55331554861664, 415.5533155486166, 415.5533155486166, 415.5533155486166, 415.5533155486166, 415.5533155486166, 415.5533155486165, 415.55331554861664, 415.5533155486166, 415.5533155486166, 415.5533155486166, 415.55331554861664, 415.5533155486166, 415.5533155486166, 415.55331554861664, 415.5533155486166, 415.5533155486166, 415.5533155486165, 415.55331554861664, 415.55331554861664, 415.5533155486166, 415.55331554861664, 415.5533155486166, 415.5533155486166, 415.5533155486166, 415.5533155486166, 415.5533155486165, 415.5533155486166, 415.5533155486166, 415.5533155486166, 415.5533155486166, 415.5533155486165, 415.5533155486165, 415.5533155486166, 415.5533155486165, 415.55331554861664, 415.5533155486165, 415.5533155486166, 415.5533155486165, 415.5533155486165, 415.5533155486166, 415.5533155486166, 415.5533155486166, 415.5533155486166, 415.5533155486166, 415.5533155486166, 415.5533155486166, 415.5533155486166, 415.5533155486166, 415.5533155486166, 415.5533155486166, 415.5533155486166, 415.5533155486166, 415.55331554861664, 415.5533155486166, 415.5533155486166, 415.5533155486165, 415.5533155486166, 415.5533155486165, 415.5533155486166, 415.55331554861664, 415.5533155486166, 415.5533155486165, 415.5533155486166, 415.5533155486165, 415.5533155486166, 415.5533155486166, 415.5533155486166, 415.5533155486166, 415.5533155486166, 415.5533155486165, 415.5533155486166, 415.5533155486165, 415.5533155486166, 415.5533155486166, 415.5533155486166, 415.5533155486165, 415.5533155486166, 415.5533155486165, 415.5533155486165, 415.5533155486165, 415.5533155486166, 415.5533155486166, 415.5533155486166, 415.5533155486166, 415.5533155486166, 415.5533155486166, 415.5533155486166, 415.5533155486166, 415.5533155486166, 415.5533155486165, 415.5533155486166, 415.55331554861664, 415.5533155486166, 415.5533155486166]\n"
     ]
    }
   ],
   "source": [
    "print(\"The Optimal theta values are :- \", theta)\n",
    "print(\"\\n\", error_list)"
   ]
  },
  {
   "cell_type": "markdown",
   "metadata": {},
   "source": [
    "### Visualization of Error Curve"
   ]
  },
  {
   "cell_type": "code",
   "execution_count": 22,
   "metadata": {},
   "outputs": [
    {
     "data": {
      "image/png": "[encoded data removed]",
      "text/plain": [
       "<Figure size 720x432 with 1 Axes>"
      ]
     },
     "metadata": {},
     "output_type": "display_data"
    }
   ],
   "source": [
    "plt.figure(figsize = (10,6))\n",
    "plt.style.use('seaborn')\n",
    "plt.title('Change in Error after each Iteration')\n",
    "plt.xlabel('Iterations')\n",
    "plt.ylabel('Loss Function')\n",
    "plt.plot(error_list, color = 'red')\n",
    "plt.savefig(\"Loss Function\")\n",
    "plt.show()"
   ]
  },
  {
   "cell_type": "markdown",
   "metadata": {},
   "source": [
    "### Prediction of the Training Data"
   ]
  },
  {
   "cell_type": "code",
   "execution_count": 23,
   "metadata": {},
   "outputs": [
    {
     "name": "stdout",
     "output_type": "stream",
     "text": [
      "(1600,)\n",
      "[ -57.87196311  -89.46019557   53.95305942 ... -115.65802541  -64.27649688\n",
      " -116.11442895]\n"
     ]
    }
   ],
   "source": [
    "pred = hypothesis(X, theta)\n",
    "print(pred.shape)\n",
    "print(pred)"
   ]
  },
  {
   "cell_type": "markdown",
   "metadata": {},
   "source": [
    "### Calculating R2-Score over Training Data"
   ]
  },
  {
   "cell_type": "code",
   "execution_count": 24,
   "metadata": {},
   "outputs": [],
   "source": [
    "def r2_score(Y, pred):\n",
    "    numerator = np.sum((Y - pred)**2)\n",
    "    denominator = np.sum((Y - np.mean(Y))**2)\n",
    "    score = 1 - (numerator / denominator)\n",
    "    \n",
    "    return (score*100)"
   ]
  },
  {
   "cell_type": "code",
   "execution_count": 25,
   "metadata": {},
   "outputs": [
    {
     "data": {
      "text/plain": [
       "96.60939669975616"
      ]
     },
     "execution_count": 25,
     "metadata": {},
     "output_type": "execute_result"
    }
   ],
   "source": [
    "r2_score(Y, pred)"
   ]
  },
  {
   "cell_type": "markdown",
   "metadata": {},
   "source": [
    "We can observe that our model can predict the Training_Y labels if the training features are provided with 96.6 % accuracy."
   ]
  },
  {
   "cell_type": "markdown",
   "metadata": {},
   "source": [
    "### Predicion of Test Data"
   ]
  },
  {
   "cell_type": "code",
   "execution_count": 26,
   "metadata": {},
   "outputs": [
    {
     "data": {
      "text/html": [
       "<div>\n",
       "<style scoped>\n",
       "    .dataframe tbody tr th:only-of-type {\n",
       "        vertical-align: middle;\n",
       "    }\n",
       "\n",
       "    .dataframe tbody tr th {\n",
       "        vertical-align: top;\n",
       "    }\n",
       "\n",
       "    .dataframe thead th {\n",
       "        text-align: right;\n",
       "    }\n",
       "</style>\n",
       "<table border=\"1\" class=\"dataframe\">\n",
       "  <thead>\n",
       "    <tr style=\"text-align: right;\">\n",
       "      <th></th>\n",
       "      <th>feature_1</th>\n",
       "      <th>feature_2</th>\n",
       "      <th>feature_3</th>\n",
       "      <th>feature_4</th>\n",
       "      <th>feature_5</th>\n",
       "    </tr>\n",
       "  </thead>\n",
       "  <tbody>\n",
       "    <tr>\n",
       "      <th>0</th>\n",
       "      <td>1.015254</td>\n",
       "      <td>2.076209</td>\n",
       "      <td>-0.266435</td>\n",
       "      <td>-2.418088</td>\n",
       "      <td>-0.980503</td>\n",
       "    </tr>\n",
       "    <tr>\n",
       "      <th>1</th>\n",
       "      <td>-0.375021</td>\n",
       "      <td>0.953185</td>\n",
       "      <td>0.626719</td>\n",
       "      <td>0.704406</td>\n",
       "      <td>-0.355489</td>\n",
       "    </tr>\n",
       "    <tr>\n",
       "      <th>2</th>\n",
       "      <td>-1.024452</td>\n",
       "      <td>0.962991</td>\n",
       "      <td>-0.407942</td>\n",
       "      <td>-1.861274</td>\n",
       "      <td>0.455201</td>\n",
       "    </tr>\n",
       "    <tr>\n",
       "      <th>3</th>\n",
       "      <td>-2.489841</td>\n",
       "      <td>0.544802</td>\n",
       "      <td>0.601219</td>\n",
       "      <td>-0.607021</td>\n",
       "      <td>-1.314286</td>\n",
       "    </tr>\n",
       "    <tr>\n",
       "      <th>4</th>\n",
       "      <td>-0.384675</td>\n",
       "      <td>-0.833624</td>\n",
       "      <td>1.358552</td>\n",
       "      <td>-0.547932</td>\n",
       "      <td>0.411925</td>\n",
       "    </tr>\n",
       "  </tbody>\n",
       "</table>\n",
       "</div>"
      ],
      "text/plain": [
       "   feature_1  feature_2  feature_3  feature_4  feature_5\n",
       "0   1.015254   2.076209  -0.266435  -2.418088  -0.980503\n",
       "1  -0.375021   0.953185   0.626719   0.704406  -0.355489\n",
       "2  -1.024452   0.962991  -0.407942  -1.861274   0.455201\n",
       "3  -2.489841   0.544802   0.601219  -0.607021  -1.314286\n",
       "4  -0.384675  -0.833624   1.358552  -0.547932   0.411925"
      ]
     },
     "execution_count": 26,
     "metadata": {},
     "output_type": "execute_result"
    }
   ],
   "source": [
    "X_test = pd.read_csv(\"Data csv Files/Test.csv\")\n",
    "X_test.head()"
   ]
  },
  {
   "cell_type": "code",
   "execution_count": 27,
   "metadata": {},
   "outputs": [],
   "source": [
    "X_test = X_test.values\n",
    "\n",
    "m = X_test.shape[0]\n",
    "X0 = np.ones((m,1))\n",
    "\n",
    "X_test = np.hstack((X0, X_test))"
   ]
  },
  {
   "cell_type": "code",
   "execution_count": 28,
   "metadata": {},
   "outputs": [
    {
     "name": "stdout",
     "output_type": "stream",
     "text": [
      "[[ 1.          1.01525387  2.07620944 -0.26643482 -2.4180882  -0.98050279]\n",
      " [ 1.         -0.3750212   0.95318453  0.62671914  0.70440575 -0.35548921]\n",
      " [ 1.         -1.02445225  0.96299111 -0.407942   -1.86127383  0.45520135]]\n"
     ]
    }
   ],
   "source": [
    "print(X_test[:3,:])"
   ]
  },
  {
   "cell_type": "code",
   "execution_count": 29,
   "metadata": {},
   "outputs": [
    {
     "data": {
      "text/plain": [
       "(400, 6)"
      ]
     },
     "execution_count": 29,
     "metadata": {},
     "output_type": "execute_result"
    }
   ],
   "source": [
    "X_test.shape"
   ]
  },
  {
   "cell_type": "code",
   "execution_count": 30,
   "metadata": {},
   "outputs": [
    {
     "name": "stdout",
     "output_type": "stream",
     "text": [
      "(400,)\n"
     ]
    }
   ],
   "source": [
    "pred = hypothesis(X_test, theta)\n",
    "print(pred.shape)"
   ]
  },
  {
   "cell_type": "code",
   "execution_count": 31,
   "metadata": {},
   "outputs": [
    {
     "data": {
      "text/html": [
       "<div>\n",
       "<style scoped>\n",
       "    .dataframe tbody tr th:only-of-type {\n",
       "        vertical-align: middle;\n",
       "    }\n",
       "\n",
       "    .dataframe tbody tr th {\n",
       "        vertical-align: top;\n",
       "    }\n",
       "\n",
       "    .dataframe thead th {\n",
       "        text-align: right;\n",
       "    }\n",
       "</style>\n",
       "<table border=\"1\" class=\"dataframe\">\n",
       "  <thead>\n",
       "    <tr style=\"text-align: right;\">\n",
       "      <th></th>\n",
       "      <th>Id</th>\n",
       "      <th>target</th>\n",
       "    </tr>\n",
       "  </thead>\n",
       "  <tbody>\n",
       "    <tr>\n",
       "      <th>0</th>\n",
       "      <td>0</td>\n",
       "      <td>112.151684</td>\n",
       "    </tr>\n",
       "    <tr>\n",
       "      <th>1</th>\n",
       "      <td>1</td>\n",
       "      <td>115.879768</td>\n",
       "    </tr>\n",
       "    <tr>\n",
       "      <th>2</th>\n",
       "      <td>2</td>\n",
       "      <td>-25.876262</td>\n",
       "    </tr>\n",
       "    <tr>\n",
       "      <th>3</th>\n",
       "      <td>3</td>\n",
       "      <td>-47.635840</td>\n",
       "    </tr>\n",
       "    <tr>\n",
       "      <th>4</th>\n",
       "      <td>4</td>\n",
       "      <td>-102.517982</td>\n",
       "    </tr>\n",
       "  </tbody>\n",
       "</table>\n",
       "</div>"
      ],
      "text/plain": [
       "   Id      target\n",
       "0   0  112.151684\n",
       "1   1  115.879768\n",
       "2   2  -25.876262\n",
       "3   3  -47.635840\n",
       "4   4 -102.517982"
      ]
     },
     "execution_count": 31,
     "metadata": {},
     "output_type": "execute_result"
    }
   ],
   "source": [
    "m = pred.shape[0]\n",
    "data = {'Id': list(np.arange(m)), 'target': list(pred)}\n",
    "\n",
    "df3 = pd.DataFrame(data)\n",
    "df3.head()"
   ]
  },
  {
   "cell_type": "code",
   "execution_count": 33,
   "metadata": {},
   "outputs": [],
   "source": [
    "df3.to_csv(\"Predicted_value_of_test_data.csv\", index = False)"
   ]
  }
 ],
 "metadata": {
  "kernelspec": {
   "display_name": "Python 3",
   "language": "python",
   "name": "python3"
  },
  "language_info": {
   "codemirror_mode": {
    "name": "ipython",
    "version": 3
   },
   "file_extension": ".py",
   "mimetype": "text/x-python",
   "name": "python",
   "nbconvert_exporter": "python",
   "pygments_lexer": "ipython3",
   "version": "3.6.5"
  }
 },
 "nbformat": 4,
 "nbformat_minor": 2
}
